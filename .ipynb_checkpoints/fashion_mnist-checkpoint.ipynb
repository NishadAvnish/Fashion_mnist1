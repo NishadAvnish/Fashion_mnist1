{
 "cells": [
  {
   "cell_type": "code",
   "execution_count": 1,
   "metadata": {
    "_cell_guid": "b1076dfc-b9ad-4769-8c92-a6c4dae69d19",
    "_uuid": "8f2839f25d086af736a60e9eeb907d3b93b6e0e5"
   },
   "outputs": [],
   "source": [
    "# imporing all the library\n",
    "import numpy as np\n",
    "import pandas as pd\n",
    "import matplotlib.pyplot as plt\n",
    "from sklearn.model_selection import train_test_split"
   ]
  },
  {
   "cell_type": "code",
   "execution_count": 3,
   "metadata": {
    "_uuid": "18c5f2cdfd65a5a6ec2a983f4e784c8e0c6d72a0"
   },
   "outputs": [],
   "source": [
    "train=pd.read_csv(\"fashion-mnist_train.csv\")\n",
    "train=np.array(train)\n",
    "np.random.shuffle(train)\n",
    "train=pd.DataFrame(train)\n",
    "train=np.array(train)\n",
    "x_trainbS=train[:,1:]/255   # we take column from  1 becuase the label are at column 0 an divide by 255 convert the pixel \n",
    "                            #value in between 0 and 1\n",
    "y_trainbS=train[:,0]\n"
   ]
  },
  {
   "cell_type": "code",
   "execution_count": 5,
   "metadata": {
    "_uuid": "a1889e2ad45bd0e163dc4b5b6b01e96d59cd142a"
   },
   "outputs": [],
   "source": [
    "test=pd.read_csv(\"fashion-mnist_test.csv\")\n",
    "test=np.array(test)\n",
    "np.random.shuffle(test)\n",
    "test=pd.DataFrame(test)\n",
    "test=np.array(test,dtype='float32')\n",
    "x_test=test[:,1:]/255\n",
    "y_test=test[:,0]"
   ]
  },
  {
   "cell_type": "code",
   "execution_count": 8,
   "metadata": {
    "_uuid": "8dc53a14d8dcb372e43ebeea4a1dbf05df3da53e"
   },
   "outputs": [
    {
     "name": "stdout",
     "output_type": "stream",
     "text": [
      "(6000, 784)\n",
      "(54000, 784)\n"
     ]
    }
   ],
   "source": [
    "# now we spit the train and test data into x_train,x_test,y_train and y_test,x_validate and y_validate\n",
    "x_train,x_validate,y_train,y_validate=train_test_split(x_trainbS,y_trainbS,test_size=0.1,random_state=190)\n",
    "print(x_validate.shape)\n",
    "print(x_train.shape)\n"
   ]
  },
  {
   "cell_type": "code",
   "execution_count": 9,
   "metadata": {
    "_uuid": "77efa3cbbed4edde4be00c215df982a9d5bcf9ee"
   },
   "outputs": [
    {
     "data": {
      "image/png": "[encoded data removed]",
      "text/plain": [
       "<Figure size 432x288 with 1 Axes>"
      ]
     },
     "metadata": {
      "needs_background": "light"
     },
     "output_type": "display_data"
    }
   ],
   "source": [
    "img=x_train[250,:].reshape(28,28,)\n",
    "plt.imshow(img,cmap='gray')\n",
    "plt.show()"
   ]
  },
  {
   "cell_type": "code",
   "execution_count": 10,
   "metadata": {
    "_uuid": "f31eb187e58ac5726a9caca8cb9965f42881fa7e"
   },
   "outputs": [
    {
     "name": "stderr",
     "output_type": "stream",
     "text": [
      "Using TensorFlow backend.\n"
     ]
    }
   ],
   "source": [
    " import keras\n",
    " from keras.models import Sequential\n",
    " from keras.layers import Conv2D,MaxPooling2D,Dense,Flatten,Dropout\n",
    " from keras.optimizers import Adam "
   ]
  },
  {
   "cell_type": "code",
   "execution_count": null,
   "metadata": {},
   "outputs": [],
   "source": []
  },
  {
   "cell_type": "code",
   "execution_count": 11,
   "metadata": {
    "_uuid": "b1765d7ca19a9cd4b0dcd2861dc659830fdee2b3"
   },
   "outputs": [
    {
     "name": "stdout",
     "output_type": "stream",
     "text": [
      "(6000, 784)\n",
      "(54000, 28, 28, 1)\n",
      "(10000, 28, 28, 1)\n"
     ]
    }
   ],
   "source": [
    "# preprocessing of data for convolutional net\n",
    "\n",
    "im_rows=28\n",
    "im_columns=28\n",
    "batch_size=512\n",
    "im_shape=(im_rows,im_columns,1)\n",
    "\n",
    "print(x_validate.shape)\n",
    "# change the shape\n",
    "x_train=x_train.reshape(x_train.shape[0],*im_shape)\n",
    "\n",
    "x_validate=x_validate.reshape(x_validate.shape[0],*im_shape)\n",
    "x_test=x_test.reshape(test.shape[0],*im_shape)\n",
    "print(x_train.shape)\n",
    "print(x_test.shape)"
   ]
  },
  {
   "cell_type": "code",
   "execution_count": 6,
   "metadata": {
    "_uuid": "cd7221868ad4bb41e9f6a6fc1c4db64f3f21a82c"
   },
   "outputs": [
    {
     "data": {
      "text/plain": [
       "(785,)"
      ]
     },
     "execution_count": 6,
     "metadata": {},
     "output_type": "execute_result"
    }
   ],
   "source": [
    "train[0,:].shape"
   ]
  },
  {
   "cell_type": "markdown",
   "metadata": {},
   "source": [
    "# creating CONVNet"
   ]
  },
  {
   "cell_type": "code",
   "execution_count": 12,
   "metadata": {
    "_uuid": "ff15fd8144ba2b25f7dc83287185754fe1db37cb"
   },
   "outputs": [
    {
     "name": "stdout",
     "output_type": "stream",
     "text": [
      "WARNING:tensorflow:From C:\\Users\\avnis\\Anaconda3\\lib\\site-packages\\tensorflow\\python\\framework\\op_def_library.py:263: colocate_with (from tensorflow.python.framework.ops) is deprecated and will be removed in a future version.\n",
      "Instructions for updating:\n",
      "Colocations handled automatically by placer.\n",
      "WARNING:tensorflow:From C:\\Users\\avnis\\Anaconda3\\lib\\site-packages\\keras\\backend\\tensorflow_backend.py:3445: calling dropout (from tensorflow.python.ops.nn_ops) with keep_prob is deprecated and will be removed in a future version.\n",
      "Instructions for updating:\n",
      "Please use `rate` instead of `keep_prob`. Rate should be set to `rate = 1 - keep_prob`.\n"
     ]
    }
   ],
   "source": [
    "model=Sequential([\n",
    "    Conv2D(filters=32,kernel_size=(3,3),activation='relu',input_shape=im_shape,padding='valid'),   \n",
    "    MaxPooling2D(pool_size=(2,2)),\n",
    "    Dropout(0.2),\n",
    "    Flatten(),\n",
    "    Dense(32,activation='sigmoid'),\n",
    "    Dense(10,activation=\"softmax\")\n",
    "])"
   ]
  },
  {
   "cell_type": "code",
   "execution_count": 13,
   "metadata": {
    "_uuid": "47f7ed1215a107928fca29fe0def01263686c3cc"
   },
   "outputs": [],
   "source": [
    "model.compile(\n",
    "    loss='sparse_categorical_crossentropy',\n",
    "    optimizer=Adam(lr=0.001),\n",
    "    metrics=['accuracy']\n",
    "    )"
   ]
  },
  {
   "cell_type": "code",
   "execution_count": null,
   "metadata": {
    "_uuid": "ba8000a1c46039512e537fc6ef37b53ac70fc302"
   },
   "outputs": [],
   "source": [
    "model.fit(x_train,y_train,batch_size=batch_size,\n",
    "         epochs=25,verbose=1,\n",
    "         validation_data=(x_validate,y_validate)\n",
    "         )"
   ]
  },
  {
   "cell_type": "code",
   "execution_count": 16,
   "metadata": {
    "_uuid": "cfa8515f687630c0f0ac3c71292cb89db0fd4427"
   },
   "outputs": [
    {
     "name": "stdout",
     "output_type": "stream",
     "text": [
      "test loss:1.0167\n",
      "test Accuracy:0.7449\n"
     ]
    }
   ],
   "source": [
    "score=model.evaluate(x_test,y_test,verbose=0)\n",
    "print('test loss:{:.4f}'.format(score[0]))\n",
    "print('test Accuracy:{:.4f}'.format(score[1]))"
   ]
  },
  {
   "cell_type": "code",
   "execution_count": null,
   "metadata": {},
   "outputs": [],
   "source": []
  }
 ],
 "metadata": {
  "kernelspec": {
   "display_name": "Python 3",
   "language": "python",
   "name": "python3"
  },
  "language_info": {
   "codemirror_mode": {
    "name": "ipython",
    "version": 3
   },
   "file_extension": ".py",
   "mimetype": "text/x-python",
   "name": "python",
   "nbconvert_exporter": "python",
   "pygments_lexer": "ipython3",
   "version": "3.7.1"
  }
 },
 "nbformat": 4,
 "nbformat_minor": 1
}
